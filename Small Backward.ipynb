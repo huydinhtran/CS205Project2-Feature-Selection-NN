Welcome to Huy Dinh Tran Feature Selection Algorithm.
On the  1 th level of the search tree
On level  1  remove feature  2  to current set with accuracy: 0.76

On the  2 th level of the search tree
On level  2  remove feature  8  to current set with accuracy: 0.8166666666666667

On the  3 th level of the search tree
On level  3  remove feature  9  to current set with accuracy: 0.8266666666666667

On the  4 th level of the search tree
On level  4  remove feature  1  to current set with accuracy: 0.84

On the  5 th level of the search tree
On level  5  remove feature  4  to current set with accuracy: 0.86

On the  6 th level of the search tree
On level  6  remove feature  6  to current set with accuracy: 0.9033333333333333

On the  7 th level of the search tree
On level  7  remove feature  5  to current set with accuracy: 0.95

On the  8 th level of the search tree
On level  8  remove feature  10  to current set with accuracy: 0.97

On the  9 th level of the search tree
On level  9  remove feature  7  to current set with accuracy: 0.8166666666666667

On the  10 th level of the search tree
On level  10  remove feature  3  to current set with accuracy: 0.8133333333333334

Set of features used: [3, 7] with accuracy: 0.97
--- 15.885265111923218 seconds ---
