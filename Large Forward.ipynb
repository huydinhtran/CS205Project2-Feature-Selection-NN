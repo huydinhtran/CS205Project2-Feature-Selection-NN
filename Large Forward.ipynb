Welcome to Huy Dinh Tran Feature Selection Algorithm.
1
On the  1 th level of the search tree
On level  1  added feature  21  to current set with accuracy: 0.828

On the  2 th level of the search tree
On level  2  added feature  12  to current set with accuracy: 0.975

On the  3 th level of the search tree
On level  3  added feature  9  to current set with accuracy: 0.961

On the  4 th level of the search tree
On level  4  added feature  17  to current set with accuracy: 0.929

On the  5 th level of the search tree
On level  5  added feature  34  to current set with accuracy: 0.896

On the  6 th level of the search tree
On level  6  added feature  24  to current set with accuracy: 0.862

On the  7 th level of the search tree
On level  7  added feature  29  to current set with accuracy: 0.833

On the  8 th level of the search tree
On level  8  added feature  2  to current set with accuracy: 0.808

On the  9 th level of the search tree
On level  9  added feature  19  to current set with accuracy: 0.804

On the  10 th level of the search tree
On level  10  added feature  32  to current set with accuracy: 0.796

On the  11 th level of the search tree
On level  11  added feature  11  to current set with accuracy: 0.787

On the  12 th level of the search tree
On level  12  added feature  7  to current set with accuracy: 0.778

On the  13 th level of the search tree
On level  13  added feature  5  to current set with accuracy: 0.774

On the  14 th level of the search tree
On level  14  added feature  33  to current set with accuracy: 0.776

On the  15 th level of the search tree
On level  15  added feature  26  to current set with accuracy: 0.77

On the  16 th level of the search tree
On level  16  added feature  1  to current set with accuracy: 0.776

On the  17 th level of the search tree
On level  17  added feature  25  to current set with accuracy: 0.762

On the  18 th level of the search tree
On level  18  added feature  14  to current set with accuracy: 0.762

On the  19 th level of the search tree
On level  19  added feature  30  to current set with accuracy: 0.755

On the  20 th level of the search tree
On level  20  added feature  23  to current set with accuracy: 0.756

On the  21 th level of the search tree
On level  21  added feature  16  to current set with accuracy: 0.753

On the  22 th level of the search tree
On level  22  added feature  39  to current set with accuracy: 0.755

On the  23 th level of the search tree
On level  23  added feature  8  to current set with accuracy: 0.755

On the  24 th level of the search tree
On level  24  added feature  37  to current set with accuracy: 0.757

On the  25 th level of the search tree
On level  25  added feature  36  to current set with accuracy: 0.754

On the  26 th level of the search tree
On level  26  added feature  31  to current set with accuracy: 0.759

On the  27 th level of the search tree
On level  27  added feature  38  to current set with accuracy: 0.752

On the  28 th level of the search tree
On level  28  added feature  28  to current set with accuracy: 0.751

On the  29 th level of the search tree
On level  29  added feature  22  to current set with accuracy: 0.748

On the  30 th level of the search tree
On level  30  added feature  15  to current set with accuracy: 0.739

On the  31 th level of the search tree
On level  31  added feature  13  to current set with accuracy: 0.738

On the  32 th level of the search tree
On level  32  added feature  20  to current set with accuracy: 0.733

On the  33 th level of the search tree
On level  33  added feature  40  to current set with accuracy: 0.733

On the  34 th level of the search tree
On level  34  added feature  35  to current set with accuracy: 0.724

On the  35 th level of the search tree
On level  35  added feature  4  to current set with accuracy: 0.716

On the  36 th level of the search tree
On level  36  added feature  6  to current set with accuracy: 0.711

On the  37 th level of the search tree
On level  37  added feature  27  to current set with accuracy: 0.711

On the  38 th level of the search tree
On level  38  added feature  10  to current set with accuracy: 0.704

On the  39 th level of the search tree
On level  39  added feature  3  to current set with accuracy: 0.704

On the  40 th level of the search tree
On level  40  added feature  18  to current set with accuracy: 0.692

Set of features used: [21, 12] with accuracy: 0.975
--- 5356.4454119205475 seconds ---
