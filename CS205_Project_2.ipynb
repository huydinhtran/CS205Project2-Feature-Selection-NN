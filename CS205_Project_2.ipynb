{
 "cells": [
  {
   "cell_type": "markdown",
   "metadata": {},
   "source": [
    "### CS205 - Introduction to Artificial Intelligence\n",
    "### Project 2: Feature Selection with Nearest Neighbor\n",
    "Huy Dinh Tran\n",
    "\n",
    "SID: 862325308\n",
    "\n",
    "Email: htran197@ucr.edu"
   ]
  },
  {
   "cell_type": "code",
   "execution_count": 618,
   "metadata": {},
   "outputs": [],
   "source": [
    "import numpy as np\n",
    "import pandas as pd\n",
    "import random"
   ]
  },
  {
   "cell_type": "code",
   "execution_count": 619,
   "metadata": {},
   "outputs": [],
   "source": [
    "dataSmall = pd.read_csv('CS205_SP_2022_SMALLtestdata__66.txt', delim_whitespace=True)\n",
    "dataLarge = pd.read_csv('CS205_SP_2022_LARGEtestdata__48.txt', delim_whitespace=True)\n",
    "#dataSmall.columns = [\"Class\",\"Feature 1\",\"Feature 2\",\"Feature 3\",\"Feature 4\",\"Feature 5\",\"Feature 6\",\"Feature 7\",\"Feature 8\",\"Feature 9\",\"Feature 10\"]\n",
    "#dataLarge.columns = [\"Class\",\"Feature 1\",\"Feature 2\",\"Feature 3\",\"Feature 4\",\"Feature 5\",\"Feature 6\",\"Feature 7\",\"Feature 8\",\"Feature 9\",\"Feature 10\",\"Feature 11\",\"Feature 12\",\"Feature 13\",\"Feature 14\",\"Feature 15\",\"Feature 16\",\"Feature 17\",\"Feature 18\",\"Feature 19\",\"Feature 20\",\"Feature 21\",\"Feature 22\",\"Feature 23\",\"Feature 24\",\"Feature 25\",\"Feature 26\",\"Feature 27\",\"Feature 28\",\"Feature 29\",\"Feature 30\",\"Feature 31\",\"Feature 32\",\"Feature 33\",\"Feature 34\",\"Feature 35\",\"Feature 36\",\"Feature 37\",\"Feature 38\",\"Feature 39\",\"Feature 40\"]"
   ]
  },
  {
   "cell_type": "code",
   "execution_count": 620,
   "metadata": {},
   "outputs": [
    {
     "name": "stdout",
     "output_type": "stream",
     "text": [
      "299\n"
     ]
    }
   ],
   "source": [
    "print (len(dataSmall.index))"
   ]
  },
  {
   "cell_type": "markdown",
   "metadata": {},
   "source": [
    "##### Leave One Out Cross Validation "
   ]
  },
  {
   "cell_type": "code",
   "execution_count": 621,
   "metadata": {},
   "outputs": [],
   "source": [
    "def leave_one_out_cross_validation(data,current_set,feature_to_add):\n",
    "    return random()\n"
   ]
  },
  {
   "cell_type": "markdown",
   "metadata": {},
   "source": [
    "##### Feature Search "
   ]
  },
  {
   "cell_type": "code",
   "execution_count": 622,
   "metadata": {},
   "outputs": [],
   "source": [
    "def feature_search(data):\n",
    "    current_set_of_features = []\n",
    "\n",
    "    for i in range(len(data.columns)-1):\n",
    "        print('On the ',i,'th level of the search tree')\n",
    "        feature_to_add_at_this_level = []\n",
    "        best_so_far_accuracy = 0\n",
    "\n",
    "        for k in range(len(data.columns)-1):\n",
    "            if k not in current_set_of_features:\n",
    "                print('--Considering adding the ', k,' feature')\n",
    "                accuracy = leave_one_out_cross_validation(data,current_set_of_features,k+1)\n",
    "                if accuracy > best_so_far_accuracy:\n",
    "                    best_so_far_accuracy = accuracy\n",
    "                    feature_to_add_at_this_level = k\n",
    "\n",
    "        current_set_of_features[i] =  feature_to_add_at_this_level\n",
    "        print('On level ', i,' i added feature ', feature_to_add_at_this_level, ' to current set')"
   ]
  },
  {
   "cell_type": "code",
   "execution_count": 623,
   "metadata": {},
   "outputs": [
    {
     "name": "stdout",
     "output_type": "stream",
     "text": [
      "On the  0 th level of the search tree\n",
      "--Considering adding the  0  feature\n"
     ]
    },
    {
     "ename": "TypeError",
     "evalue": "'module' object is not callable",
     "output_type": "error",
     "traceback": [
      "\u001b[1;31m---------------------------------------------------------------------------\u001b[0m",
      "\u001b[1;31mTypeError\u001b[0m                                 Traceback (most recent call last)",
      "\u001b[1;32m~\\AppData\\Local\\Temp/ipykernel_5732/3843839997.py\u001b[0m in \u001b[0;36m<module>\u001b[1;34m\u001b[0m\n\u001b[1;32m----> 1\u001b[1;33m \u001b[0mfeature_search\u001b[0m\u001b[1;33m(\u001b[0m\u001b[0mdataSmall\u001b[0m\u001b[1;33m)\u001b[0m\u001b[1;33m\u001b[0m\u001b[1;33m\u001b[0m\u001b[0m\n\u001b[0m",
      "\u001b[1;32m~\\AppData\\Local\\Temp/ipykernel_5732/1145053133.py\u001b[0m in \u001b[0;36mfeature_search\u001b[1;34m(data)\u001b[0m\n\u001b[0;32m     10\u001b[0m             \u001b[1;32mif\u001b[0m \u001b[0mk\u001b[0m \u001b[1;32mnot\u001b[0m \u001b[1;32min\u001b[0m \u001b[0mcurrent_set_of_features\u001b[0m\u001b[1;33m:\u001b[0m\u001b[1;33m\u001b[0m\u001b[1;33m\u001b[0m\u001b[0m\n\u001b[0;32m     11\u001b[0m                 \u001b[0mprint\u001b[0m\u001b[1;33m(\u001b[0m\u001b[1;34m'--Considering adding the '\u001b[0m\u001b[1;33m,\u001b[0m \u001b[0mk\u001b[0m\u001b[1;33m,\u001b[0m\u001b[1;34m' feature'\u001b[0m\u001b[1;33m)\u001b[0m\u001b[1;33m\u001b[0m\u001b[1;33m\u001b[0m\u001b[0m\n\u001b[1;32m---> 12\u001b[1;33m                 \u001b[0maccuracy\u001b[0m \u001b[1;33m=\u001b[0m \u001b[0mleave_one_out_cross_validation\u001b[0m\u001b[1;33m(\u001b[0m\u001b[0mdata\u001b[0m\u001b[1;33m,\u001b[0m\u001b[0mcurrent_set_of_features\u001b[0m\u001b[1;33m,\u001b[0m\u001b[0mk\u001b[0m\u001b[1;33m+\u001b[0m\u001b[1;36m1\u001b[0m\u001b[1;33m)\u001b[0m\u001b[1;33m\u001b[0m\u001b[1;33m\u001b[0m\u001b[0m\n\u001b[0m\u001b[0;32m     13\u001b[0m                 \u001b[1;32mif\u001b[0m \u001b[0maccuracy\u001b[0m \u001b[1;33m>\u001b[0m \u001b[0mbest_so_far_accuracy\u001b[0m\u001b[1;33m:\u001b[0m\u001b[1;33m\u001b[0m\u001b[1;33m\u001b[0m\u001b[0m\n\u001b[0;32m     14\u001b[0m                     \u001b[0mbest_so_far_accuracy\u001b[0m \u001b[1;33m=\u001b[0m \u001b[0maccuracy\u001b[0m\u001b[1;33m\u001b[0m\u001b[1;33m\u001b[0m\u001b[0m\n",
      "\u001b[1;32m~\\AppData\\Local\\Temp/ipykernel_5732/351393582.py\u001b[0m in \u001b[0;36mleave_one_out_cross_validation\u001b[1;34m(data, current_set, feature_to_add)\u001b[0m\n\u001b[0;32m      1\u001b[0m \u001b[1;32mdef\u001b[0m \u001b[0mleave_one_out_cross_validation\u001b[0m\u001b[1;33m(\u001b[0m\u001b[0mdata\u001b[0m\u001b[1;33m,\u001b[0m\u001b[0mcurrent_set\u001b[0m\u001b[1;33m,\u001b[0m\u001b[0mfeature_to_add\u001b[0m\u001b[1;33m)\u001b[0m\u001b[1;33m:\u001b[0m\u001b[1;33m\u001b[0m\u001b[1;33m\u001b[0m\u001b[0m\n\u001b[1;32m----> 2\u001b[1;33m     \u001b[1;32mreturn\u001b[0m \u001b[0mrandom\u001b[0m\u001b[1;33m(\u001b[0m\u001b[1;33m)\u001b[0m\u001b[1;33m\u001b[0m\u001b[1;33m\u001b[0m\u001b[0m\n\u001b[0m",
      "\u001b[1;31mTypeError\u001b[0m: 'module' object is not callable"
     ]
    }
   ],
   "source": [
    "feature_search(dataSmall)"
   ]
  },
  {
   "cell_type": "markdown",
   "metadata": {},
   "source": [
    "##### K-fold cross validation"
   ]
  },
  {
   "cell_type": "code",
   "execution_count": null,
   "metadata": {},
   "outputs": [],
   "source": [
    "def k_fold(data, current_set, feature_to_add):\n",
    "    number_correctly_classfied = 0\n",
    "    for i, row in data.iterrows():\n",
    "        object_to_classify = data.iloc[i,1:]\n",
    "        label_object_to_classify = data.iloc[i,0]\n",
    "    \n",
    "        nearest_neighbor_distance = np.inf\n",
    "        nearest_neighbor_location = np.inf\n",
    "        for k, row in data.iterrows():\n",
    "\n",
    "            if k != i:\n",
    "                distance = np.sqrt(sum(np.power((object_to_classify - data.iloc[k,1:]), 2)))\n",
    "                if distance < nearest_neighbor_distance:\n",
    "                    nearest_neighbor_distance = distance\n",
    "                    nearest_neighbor_location = k\n",
    "                    nearest_neighbor_label = data.iloc[nearest_neighbor_location,0]\n",
    "        if label_object_to_classify == nearest_neighbor_label:\n",
    "            number_correctly_classfied += 1\n",
    "    return number_correctly_classfied / len(data.index)"
   ]
  }
 ],
 "metadata": {
  "interpreter": {
   "hash": "b80aff2a19cf941dbb44256e5b2c5db4bea0d59041b979103d19485f1a4c9597"
  },
  "kernelspec": {
   "display_name": "Python 3.9.7 ('base')",
   "language": "python",
   "name": "python3"
  },
  "language_info": {
   "codemirror_mode": {
    "name": "ipython",
    "version": 3
   },
   "file_extension": ".py",
   "mimetype": "text/x-python",
   "name": "python",
   "nbconvert_exporter": "python",
   "pygments_lexer": "ipython3",
   "version": "3.9.7"
  },
  "orig_nbformat": 4
 },
 "nbformat": 4,
 "nbformat_minor": 2
}
