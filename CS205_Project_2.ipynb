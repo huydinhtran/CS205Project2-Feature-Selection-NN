{
 "cells": [
  {
   "cell_type": "markdown",
   "metadata": {},
   "source": [
    "### CS205 - Introduction to Artificial Intelligence\n",
    "### Project 2: Feature Selection with Nearest Neighbor\n",
    "Huy Dinh Tran\n",
    "\n",
    "SID: 862325308\n",
    "\n",
    "Email: htran197@ucr.edu"
   ]
  },
  {
   "cell_type": "code",
   "execution_count": 11,
   "metadata": {},
   "outputs": [],
   "source": [
    "import numpy as np\n",
    "import math\n",
    "import time"
   ]
  },
  {
   "cell_type": "markdown",
   "metadata": {},
   "source": [
    "##### Forward Selection"
   ]
  },
  {
   "cell_type": "code",
   "execution_count": 12,
   "metadata": {},
   "outputs": [],
   "source": [
    "def forward(data):\n",
    "    current_set_of_features = []\n",
    "    best_set_of_features = []\n",
    "    best_accuracy = 0\n",
    "\n",
    "    for i in range(1, len(data[0])):\n",
    "        \n",
    "        print('On the ',i,'th level of the search tree')\n",
    "        feature_to_add_at_this_level = []\n",
    "        best_so_far_accuracy = 0\n",
    "\n",
    "        for k in range(1, len(data[0])):\n",
    "            if k not in current_set_of_features:\n",
    "                accuracy = leave_one_out_cross_validation(data,current_set_of_features,k,1)\n",
    "\n",
    "                if accuracy > best_so_far_accuracy:\n",
    "                    best_so_far_accuracy = accuracy\n",
    "                    feature_to_add_at_this_level = k\n",
    "                    \n",
    "        if (feature_to_add_at_this_level) not in current_set_of_features:\n",
    "            current_set_of_features.append(feature_to_add_at_this_level)\n",
    "\n",
    "        if best_so_far_accuracy > best_accuracy: \n",
    "            best_accuracy = best_so_far_accuracy\n",
    "            best_set_of_features = list(current_set_of_features)\n",
    "\n",
    "        print('On level ', i,' added feature ', feature_to_add_at_this_level, ' to current set', \"with accuracy:\", best_so_far_accuracy)\n",
    "        print(\"\")\n",
    "    \n",
    "    print(\"Set of features used:\", best_set_of_features, \"with accuracy:\", best_accuracy)      \n",
    "        \n",
    "    return"
   ]
  },
  {
   "cell_type": "markdown",
   "metadata": {},
   "source": [
    "#### Backward Elimination"
   ]
  },
  {
   "cell_type": "code",
   "execution_count": 13,
   "metadata": {},
   "outputs": [],
   "source": [
    "def backward(data):\n",
    "    current_set_of_features = [i for i in range(1, len(data[0]))]\n",
    "    best_set_of_features = []\n",
    "    best_accuracy = 0\n",
    "\n",
    "    for i in range(1, len(data[0])):\n",
    "        \n",
    "        print('On the ',i,'th level of the search tree')\n",
    "        feature_to_remove_at_this_level = []\n",
    "        best_so_far_accuracy = 0\n",
    "\n",
    "        for k in range(1, len(data[0])):\n",
    "            if k in current_set_of_features:\n",
    "                accuracy = leave_one_out_cross_validation(data,current_set_of_features,k,2)\n",
    "\n",
    "                if accuracy > best_so_far_accuracy:\n",
    "                    best_so_far_accuracy = accuracy\n",
    "                    feature_to_remove_at_this_level = k\n",
    "                    \n",
    "        if (feature_to_remove_at_this_level) in current_set_of_features:\n",
    "            current_set_of_features.remove(feature_to_remove_at_this_level)\n",
    "\n",
    "        if best_so_far_accuracy > best_accuracy:\n",
    "            best_accuracy = best_so_far_accuracy\n",
    "            best_set_of_features = list(current_set_of_features) \n",
    "\n",
    "        print('On level ', i,' remove feature ', feature_to_remove_at_this_level, ' to current set', \"with accuracy:\", best_so_far_accuracy)\n",
    "        print(\"\")\n",
    "    \n",
    "    print(\"Set of features used:\", best_set_of_features, \"with accuracy:\", best_accuracy)      \n",
    "        \n",
    "    return"
   ]
  },
  {
   "cell_type": "markdown",
   "metadata": {},
   "source": [
    "#### leave_one_out_cross_validation using Nearest Neighbor"
   ]
  },
  {
   "cell_type": "code",
   "execution_count": 14,
   "metadata": {},
   "outputs": [],
   "source": [
    "def leave_one_out_cross_validation(data, current_set, feature, algo):\n",
    "    number_correctly_classfied = 0\n",
    "    current = list(current_set)\n",
    "    if algo == 1:\n",
    "        current.append(feature)\n",
    "    elif algo == 2:\n",
    "        current.remove(feature)\n",
    "    \n",
    "    for i in range(len(data)):\n",
    "        label_object_to_classify = data[i,0]\n",
    "        nearest_neighbor_distance = math.inf\n",
    "        nearest_neighbor_location = math.inf\n",
    "\n",
    "        for k in range(len(data)):\n",
    "            if k != i:\n",
    "                distance = 0\n",
    "\n",
    "                for j in current:\n",
    "                    distance += pow((data[i,j] - data[k,j]), 2)\n",
    "\n",
    "                distance = math.sqrt(distance)\n",
    "\n",
    "                if distance < nearest_neighbor_distance:\n",
    "                    nearest_neighbor_distance = distance\n",
    "                    nearest_neighbor_location = k\n",
    "                    nearest_neighbor_label = data[nearest_neighbor_location,0]\n",
    "\n",
    "        if label_object_to_classify == nearest_neighbor_label:\n",
    "            number_correctly_classfied += 1\n",
    "\n",
    "    return number_correctly_classfied / len(data)\n"
   ]
  },
  {
   "cell_type": "code",
   "execution_count": 15,
   "metadata": {},
   "outputs": [
    {
     "name": "stdout",
     "output_type": "stream",
     "text": [
      "Welcome to Huy Dinh Tran Feature Selection Algorithm.\n",
      "On the  1 th level of the search tree\n",
      "On level  1  remove feature  2  to current set with accuracy: 0.76\n",
      "\n",
      "On the  2 th level of the search tree\n",
      "On level  2  remove feature  8  to current set with accuracy: 0.8166666666666667\n",
      "\n",
      "On the  3 th level of the search tree\n",
      "On level  3  remove feature  9  to current set with accuracy: 0.8266666666666667\n",
      "\n",
      "On the  4 th level of the search tree\n",
      "On level  4  remove feature  1  to current set with accuracy: 0.84\n",
      "\n",
      "On the  5 th level of the search tree\n",
      "On level  5  remove feature  4  to current set with accuracy: 0.86\n",
      "\n",
      "On the  6 th level of the search tree\n",
      "On level  6  remove feature  6  to current set with accuracy: 0.9033333333333333\n",
      "\n",
      "On the  7 th level of the search tree\n",
      "On level  7  remove feature  5  to current set with accuracy: 0.95\n",
      "\n",
      "On the  8 th level of the search tree\n",
      "On level  8  remove feature  10  to current set with accuracy: 0.97\n",
      "\n",
      "On the  9 th level of the search tree\n",
      "On level  9  remove feature  7  to current set with accuracy: 0.8166666666666667\n",
      "\n",
      "On the  10 th level of the search tree\n",
      "On level  10  remove feature  3  to current set with accuracy: 0.8133333333333334\n",
      "\n",
      "Set of features used: [3, 7] with accuracy: 0.97\n",
      "--- 14.920564651489258 seconds ---\n"
     ]
    }
   ],
   "source": [
    "print(\"Welcome to Huy Dinh Tran Feature Selection Algorithm.\")\n",
    "\n",
    "chooseData = input(\"Press 1 to choose small dataset and press 2 to choose large dataset: \")\n",
    "\n",
    "if chooseData == \"1\":\n",
    "    data = np.loadtxt('CS205_SP_2022_SMALLtestdata__66.txt')\n",
    "elif chooseData == \"2\":\n",
    "    data = np.loadtxt('CS205_SP_2022_LARGEtestdata__48.txt')\n",
    "\n",
    "chooseAlgo = input(\"Press 1 to choose Forward Selection and press 2 to choose Backward Elimination: \")\n",
    "\n",
    "start_time = time.time()\n",
    "\n",
    "if chooseAlgo == \"1\":\n",
    "    forward(data)\n",
    "elif chooseAlgo == \"2\":\n",
    "    backward(data)\n",
    "\n",
    "print(\"--- %s seconds ---\" % (time.time() - start_time))"
   ]
  }
 ],
 "metadata": {
  "interpreter": {
   "hash": "b80aff2a19cf941dbb44256e5b2c5db4bea0d59041b979103d19485f1a4c9597"
  },
  "kernelspec": {
   "display_name": "Python 3.9.7 ('base')",
   "language": "python",
   "name": "python3"
  },
  "language_info": {
   "codemirror_mode": {
    "name": "ipython",
    "version": 3
   },
   "file_extension": ".py",
   "mimetype": "text/x-python",
   "name": "python",
   "nbconvert_exporter": "python",
   "pygments_lexer": "ipython3",
   "version": "3.9.7"
  },
  "orig_nbformat": 4
 },
 "nbformat": 4,
 "nbformat_minor": 2
}
