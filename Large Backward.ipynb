Welcome to Huy Dinh Tran Feature Selection Algorithm.
2
On the  1 th level of the search tree
On level  1  remove feature  18  to current set with accuracy: 0.704

On the  2 th level of the search tree
On level  2  remove feature  12  to current set with accuracy: 0.717

On the  3 th level of the search tree
On level  3  remove feature  29  to current set with accuracy: 0.725

On the  4 th level of the search tree
On level  4  remove feature  3  to current set with accuracy: 0.735

On the  5 th level of the search tree
On level  5  remove feature  40  to current set with accuracy: 0.736

On the  6 th level of the search tree
On level  6  remove feature  6  to current set with accuracy: 0.737

On the  7 th level of the search tree
On level  7  remove feature  37  to current set with accuracy: 0.737

On the  8 th level of the search tree
On level  8  remove feature  2  to current set with accuracy: 0.736

On the  9 th level of the search tree
On level  9  remove feature  1  to current set with accuracy: 0.742

On the  10 th level of the search tree
On level  10  remove feature  5  to current set with accuracy: 0.737

On the  11 th level of the search tree
On level  11  remove feature  21  to current set with accuracy: 0.738

On the  12 th level of the search tree
On level  12  remove feature  20  to current set with accuracy: 0.739

On the  13 th level of the search tree
On level  13  remove feature  28  to current set with accuracy: 0.742

On the  14 th level of the search tree
On level  14  remove feature  25  to current set with accuracy: 0.742

On the  15 th level of the search tree
On level  15  remove feature  4  to current set with accuracy: 0.746

On the  16 th level of the search tree
On level  16  remove feature  24  to current set with accuracy: 0.747

On the  17 th level of the search tree
On level  17  remove feature  35  to current set with accuracy: 0.757

On the  18 th level of the search tree
On level  18  remove feature  27  to current set with accuracy: 0.741

On the  19 th level of the search tree
On level  19  remove feature  9  to current set with accuracy: 0.736

On the  20 th level of the search tree
On level  20  remove feature  15  to current set with accuracy: 0.738

On the  21 th level of the search tree
On level  21  remove feature  8  to current set with accuracy: 0.735

On the  22 th level of the search tree
On level  22  remove feature  10  to current set with accuracy: 0.741

On the  23 th level of the search tree
On level  23  remove feature  16  to current set with accuracy: 0.743

On the  24 th level of the search tree
On level  24  remove feature  39  to current set with accuracy: 0.738

On the  25 th level of the search tree
On level  25  remove feature  36  to current set with accuracy: 0.737

On the  26 th level of the search tree
On level  26  remove feature  14  to current set with accuracy: 0.734

On the  27 th level of the search tree
On level  27  remove feature  19  to current set with accuracy: 0.734

On the  28 th level of the search tree
On level  28  remove feature  32  to current set with accuracy: 0.729

On the  29 th level of the search tree
On level  29  remove feature  13  to current set with accuracy: 0.72

On the  30 th level of the search tree
On level  30  remove feature  17  to current set with accuracy: 0.732

On the  31 th level of the search tree
On level  31  remove feature  30  to current set with accuracy: 0.726

On the  32 th level of the search tree
On level  32  remove feature  22  to current set with accuracy: 0.73

On the  33 th level of the search tree
On level  33  remove feature  38  to current set with accuracy: 0.719

On the  34 th level of the search tree
On level  34  remove feature  33  to current set with accuracy: 0.736

On the  35 th level of the search tree
On level  35  remove feature  7  to current set with accuracy: 0.726

On the  36 th level of the search tree
On level  36  remove feature  31  to current set with accuracy: 0.709

On the  37 th level of the search tree
On level  37  remove feature  11  to current set with accuracy: 0.717

On the  38 th level of the search tree
On level  38  remove feature  23  to current set with accuracy: 0.707

On the  39 th level of the search tree
On level  39  remove feature  34  to current set with accuracy: 0.711

On the  40 th level of the search tree
On level  40  remove feature  26  to current set with accuracy: 0.807

Set of features used: [] with accuracy: 0.807
--- 9801.11207818985 seconds ---
