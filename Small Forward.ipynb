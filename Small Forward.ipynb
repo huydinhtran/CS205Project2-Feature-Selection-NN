Welcome to Huy Dinh Tran Feature Selection Algorithm.
On the  1 th level of the search tree
On level  1  added feature  3  to current set with accuracy: 0.8166666666666667

On the  2 th level of the search tree
On level  2  added feature  7  to current set with accuracy: 0.97

On the  3 th level of the search tree
On level  3  added feature  9  to current set with accuracy: 0.97

On the  4 th level of the search tree
On level  4  added feature  1  to current set with accuracy: 0.9233333333333333

On the  5 th level of the search tree
On level  5  added feature  2  to current set with accuracy: 0.8933333333333333

On the  6 th level of the search tree
On level  6  added feature  4  to current set with accuracy: 0.8266666666666667

On the  7 th level of the search tree
On level  7  added feature  5  to current set with accuracy: 0.7833333333333333

On the  8 th level of the search tree
On level  8  added feature  8  to current set with accuracy: 0.7533333333333333

On the  9 th level of the search tree
On level  9  added feature  6  to current set with accuracy: 0.7166666666666667

On the  10 th level of the search tree
On level  10  added feature  10  to current set with accuracy: 0.73

Set of features used: [3, 7] with accuracy: 0.97
--- 11.09190034866333 seconds ---
